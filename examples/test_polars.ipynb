{
 "cells": [
  {
   "cell_type": "code",
   "execution_count": 1,
   "metadata": {},
   "outputs": [],
   "source": [
    "from os.path import exists, join, abspath, dirname, basename\n",
    "from pprint import pprint\n",
    "\n",
    "import polars as pl\n",
    "from tqdm import tqdm\n",
    "\n",
    "import sys\n",
    "sys.path.append(join(dirname(abspath(''))))\n",
    "from GeoScraper import GeoScraper"
   ]
  },
  {
   "cell_type": "code",
   "execution_count": 2,
   "metadata": {},
   "outputs": [
    {
     "name": "stdout",
     "output_type": "stream",
     "text": [
      "done\n"
     ]
    }
   ],
   "source": [
    "XML_FNAME = join(abspath(''), 'map.osm')\n",
    "\n",
    "scraper = GeoScraper()\n",
    "scraper.from_file(XML_FNAME)\n",
    "\n",
    "print('done')"
   ]
  },
  {
   "cell_type": "code",
   "execution_count": 3,
   "metadata": {},
   "outputs": [
    {
     "name": "stdout",
     "output_type": "stream",
     "text": [
      "dict_keys(['@version', '@generator', '@copyright', '@attribution', '@license', 'bounds', 'node', 'way', 'relation'])\n"
     ]
    }
   ],
   "source": [
    "pprint(scraper.raw_data()['osm'].keys())"
   ]
  },
  {
   "cell_type": "code",
   "execution_count": 4,
   "metadata": {},
   "outputs": [
    {
     "name": "stdout",
     "output_type": "stream",
     "text": [
      "{'@changeset': '177010',\n",
      " '@id': '154096831',\n",
      " '@lat': '39.7747813',\n",
      " '@lon': '-84.0799363',\n",
      " '@timestamp': '2008-12-06T17:05:42Z',\n",
      " '@uid': '3582',\n",
      " '@user': 'davidearl',\n",
      " '@version': '2',\n",
      " '@visible': 'true',\n",
      " 'tag': [{'@k': 'ele', '@v': '297'},\n",
      "         {'@k': 'gnis:Class', '@v': 'Populated Place'},\n",
      "         {'@k': 'gnis:County', '@v': 'Greene'},\n",
      "         {'@k': 'gnis:County_num', '@v': '057'},\n",
      "         {'@k': 'gnis:id', '@v': '1049006'},\n",
      "         {'@k': 'gnis:ST_alpha', '@v': 'OH'},\n",
      "         {'@k': 'gnis:ST_num', '@v': '39'},\n",
      "         {'@k': 'import_uuid', '@v': 'bb7269ee-502a-5391-8056-e3ce0e66489c'},\n",
      "         {'@k': 'is_in', '@v': 'Greene,Ohio,Ohio,OH,USA'},\n",
      "         {'@k': 'name', '@v': 'New Germany'},\n",
      "         {'@k': 'place', '@v': 'hamlet'}]}\n"
     ]
    }
   ],
   "source": [
    "pprint(scraper.raw_data()['osm']['node'][0])"
   ]
  },
  {
   "cell_type": "code",
   "execution_count": 8,
   "metadata": {},
   "outputs": [
    {
     "name": "stdout",
     "output_type": "stream",
     "text": [
      "24550\n",
      "\n"
     ]
    },
    {
     "name": "stderr",
     "output_type": "stream",
     "text": [
      "0it [00:00, ?it/s]"
     ]
    },
    {
     "name": "stdout",
     "output_type": "stream",
     "text": [
      "{'@changeset': '177010',\n",
      " '@id': '154096831',\n",
      " '@lat': '39.7747813',\n",
      " '@lon': '-84.0799363',\n",
      " '@timestamp': '2008-12-06T17:05:42Z',\n",
      " '@uid': '3582',\n",
      " '@user': 'davidearl',\n",
      " '@version': '2',\n",
      " '@visible': 'true',\n",
      " 'tag': [{'@k': 'ele', '@v': '297'},\n",
      "         {'@k': 'gnis:Class', '@v': 'Populated Place'},\n",
      "         {'@k': 'gnis:County', '@v': 'Greene'},\n",
      "         {'@k': 'gnis:County_num', '@v': '057'},\n",
      "         {'@k': 'gnis:id', '@v': '1049006'},\n",
      "         {'@k': 'gnis:ST_alpha', '@v': 'OH'},\n",
      "         {'@k': 'gnis:ST_num', '@v': '39'},\n",
      "         {'@k': 'import_uuid', '@v': 'bb7269ee-502a-5391-8056-e3ce0e66489c'},\n",
      "         {'@k': 'is_in', '@v': 'Greene,Ohio,Ohio,OH,USA'},\n",
      "         {'@k': 'name', '@v': 'New Germany'},\n",
      "         {'@k': 'place', '@v': 'hamlet'}]}\n",
      "shape: (1, 11)\n",
      "┌───────────┬───────────┬──────┬──────┬───┬─────────┬─────────┬──────────┬──────────┐\n",
      "│ changeset ┆ id        ┆ lat  ┆ lon  ┆ … ┆ version ┆ visible ┆ tag_keys ┆ tag_vals │\n",
      "│ ---       ┆ ---       ┆ ---  ┆ ---  ┆   ┆ ---     ┆ ---     ┆ ---      ┆ ---      │\n",
      "│ i64       ┆ i64       ┆ i64  ┆ i64  ┆   ┆ i64     ┆ i64     ┆ i64      ┆ i64      │\n",
      "╞═══════════╪═══════════╪══════╪══════╪═══╪═════════╪═════════╪══════════╪══════════╡\n",
      "│ 177010    ┆ 154096831 ┆ null ┆ null ┆ … ┆ 2       ┆ null    ┆ null     ┆ 297      │\n",
      "└───────────┴───────────┴──────┴──────┴───┴─────────┴─────────┴──────────┴──────────┘\n"
     ]
    },
    {
     "name": "stderr",
     "output_type": "stream",
     "text": [
      "\n"
     ]
    }
   ],
   "source": [
    "node_data = scraper.raw_data()['osm']['node']\n",
    "num_nodes = len(node_data)\n",
    "\n",
    "df = pl.DataFrame({\"changeset\": range(num_nodes),\n",
    "                   \"id\":        range(num_nodes),\n",
    "                   \"lat\":       range(num_nodes),\n",
    "                   \"lon\":       range(num_nodes),\n",
    "                   \"timestamp\": range(num_nodes),\n",
    "                   \"uid\":       range(num_nodes),\n",
    "                   \"user\":      range(num_nodes),\n",
    "                   \"version\":   range(num_nodes),\n",
    "                   \"visible\":   range(num_nodes),\n",
    "                   \"tag_keys\":  range(num_nodes),\n",
    "                   \"tag_vals\":  range(num_nodes)})\n",
    "\n",
    "print(num_nodes)\n",
    "print()\n",
    "\n",
    "for i, node in tqdm(enumerate(node_data)):\n",
    "    try:\n",
    "        tags = node['tag']\n",
    "        \n",
    "        if type(tags) == list:\n",
    "            tag_keys = [tag['@k'] for tag in tags]\n",
    "            tag_vals = [tag['@v'] for tag in tags]\n",
    "        elif type(tags) == dict:\n",
    "            tag_keys = [tags['@k']]\n",
    "            tag_vals = [tags['@v']]\n",
    "        else:\n",
    "            tag_keys = []\n",
    "            tag_vals = []\n",
    "        \n",
    "    except KeyError:\n",
    "        tag_keys = []\n",
    "        tag_vals = []\n",
    "    \n",
    "    df[i, 'changeset'] = node['@changeset']\n",
    "    df[i, 'id']        = node['@id']\n",
    "    df[i, 'lat']       = node['@lat']\n",
    "    df[i, 'lon']       = node['@lon']\n",
    "    df[i, 'timestamp'] = node['@timestamp']\n",
    "    df[i, 'uid']       = node['@uid']\n",
    "    df[i, 'user']      = node['@user']\n",
    "    df[i, 'version']   = node['@version']\n",
    "    df[i, 'visible']   = node['@visible']\n",
    "    df[i, 'tag_keys']  = tag_keys\n",
    "    df[i, 'tag_vals']  = tag_vals\n",
    "    \n",
    "    pprint(node)\n",
    "    break\n",
    "\n",
    "print(df[0])"
   ]
  },
  {
   "cell_type": "code",
   "execution_count": 6,
   "metadata": {},
   "outputs": [
    {
     "name": "stdout",
     "output_type": "stream",
     "text": [
      "{'@changeset': '74374190',\n",
      " '@id': '20497659',\n",
      " '@timestamp': '2019-09-12T00:10:09Z',\n",
      " '@uid': '953610',\n",
      " '@user': 'smlyons77',\n",
      " '@version': '22',\n",
      " '@visible': 'true',\n",
      " 'nd': [{'@ref': '229932815'},\n",
      "        {'@ref': '3700482005'},\n",
      "        {'@ref': '3700481993'},\n",
      "        {'@ref': '332191365'},\n",
      "        {'@ref': '3700481989'},\n",
      "        {'@ref': '6789467446'},\n",
      "        {'@ref': '217674638'},\n",
      "        {'@ref': '211925939'},\n",
      "        {'@ref': '217398152'},\n",
      "        {'@ref': '3700481979'},\n",
      "        {'@ref': '6789422430'},\n",
      "        {'@ref': '3700481978'}],\n",
      " 'tag': [{'@k': 'alt_name', '@v': 'Veterans Memorial Parkway'},\n",
      "         {'@k': 'highway', '@v': 'primary'},\n",
      "         {'@k': 'lanes', '@v': '3'},\n",
      "         {'@k': 'lit', '@v': 'yes'},\n",
      "         {'@k': 'maxspeed', '@v': '45 mph'},\n",
      "         {'@k': 'name', '@v': 'North Fairfield Road'},\n",
      "         {'@k': 'oneway', '@v': 'yes'},\n",
      "         {'@k': 'tiger:cfcc', '@v': 'A41'},\n",
      "         {'@k': 'tiger:county', '@v': 'Greene, OH'},\n",
      "         {'@k': 'tiger:name_base', '@v': 'Fairfield'},\n",
      "         {'@k': 'tiger:name_direction_prefix', '@v': 'N'},\n",
      "         {'@k': 'tiger:name_type', '@v': 'Rd'},\n",
      "         {'@k': 'tiger:reviewed', '@v': 'no'},\n",
      "         {'@k': 'tiger:zip_left', '@v': '45431'},\n",
      "         {'@k': 'tiger:zip_right', '@v': '45431'}]}\n"
     ]
    }
   ],
   "source": [
    "pprint(scraper.raw_data()['osm']['way'][0])"
   ]
  },
  {
   "cell_type": "code",
   "execution_count": 7,
   "metadata": {},
   "outputs": [
    {
     "name": "stdout",
     "output_type": "stream",
     "text": [
      "{'@changeset': '128063736',\n",
      " '@id': '182893',\n",
      " '@timestamp': '2022-10-26T04:56:19Z',\n",
      " '@uid': '7512845',\n",
      " '@user': 'Stephen L Arnold',\n",
      " '@version': '39',\n",
      " '@visible': 'true',\n",
      " 'member': [{'@ref': '38239364', '@role': 'outer', '@type': 'way'},\n",
      "            {'@ref': '38239341', '@role': 'outer', '@type': 'way'},\n",
      "            {'@ref': '688800782', '@role': 'outer', '@type': 'way'},\n",
      "            {'@ref': '690834822', '@role': 'outer', '@type': 'way'},\n",
      "            {'@ref': '305379367', '@role': 'outer', '@type': 'way'},\n",
      "            {'@ref': '1002456245', '@role': 'outer', '@type': 'way'},\n",
      "            {'@ref': '305379369', '@role': 'outer', '@type': 'way'},\n",
      "            {'@ref': '688477972', '@role': 'outer', '@type': 'way'},\n",
      "            {'@ref': '688477523', '@role': 'outer', '@type': 'way'},\n",
      "            {'@ref': '931637494', '@role': 'outer', '@type': 'way'},\n",
      "            {'@ref': '694605246', '@role': 'outer', '@type': 'way'},\n",
      "            {'@ref': '38239295', '@role': 'outer', '@type': 'way'},\n",
      "            {'@ref': '690992326', '@role': 'outer', '@type': 'way'},\n",
      "            {'@ref': '38239293', '@role': 'outer', '@type': 'way'},\n",
      "            {'@ref': '21360085', '@role': 'outer', '@type': 'way'},\n",
      "            {'@ref': '45416293', '@role': 'outer', '@type': 'way'},\n",
      "            {'@ref': '1107006193', '@role': 'outer', '@type': 'way'},\n",
      "            {'@ref': '45416295', '@role': 'outer', '@type': 'way'},\n",
      "            {'@ref': '45416292', '@role': 'outer', '@type': 'way'},\n",
      "            {'@ref': '45416294', '@role': 'outer', '@type': 'way'},\n",
      "            {'@ref': '45416291', '@role': 'outer', '@type': 'way'},\n",
      "            {'@ref': '38239294', '@role': 'outer', '@type': 'way'},\n",
      "            {'@ref': '45416290', '@role': 'outer', '@type': 'way'},\n",
      "            {'@ref': '690834819', '@role': 'outer', '@type': 'way'},\n",
      "            {'@ref': '688429428', '@role': 'outer', '@type': 'way'},\n",
      "            {'@ref': '688429426', '@role': 'outer', '@type': 'way'},\n",
      "            {'@ref': '690217332', '@role': 'outer', '@type': 'way'},\n",
      "            {'@ref': '38239342', '@role': 'outer', '@type': 'way'},\n",
      "            {'@ref': '38239345', '@role': 'outer', '@type': 'way'},\n",
      "            {'@ref': '38239350', '@role': 'outer', '@type': 'way'},\n",
      "            {'@ref': '688649348', '@role': 'outer', '@type': 'way'},\n",
      "            {'@ref': '691682621', '@role': 'outer', '@type': 'way'},\n",
      "            {'@ref': '691716618', '@role': 'outer', '@type': 'way'},\n",
      "            {'@ref': '38239362', '@role': 'outer', '@type': 'way'},\n",
      "            {'@ref': '711728210', '@role': 'outer', '@type': 'way'}],\n",
      " 'tag': [{'@k': 'admin_level', '@v': '8'},\n",
      "         {'@k': 'border_type', '@v': 'city'},\n",
      "         {'@k': 'boundary', '@v': 'administrative'},\n",
      "         {'@k': 'name', '@v': 'Beavercreek'},\n",
      "         {'@k': 'place', '@v': 'city'},\n",
      "         {'@k': 'source',\n",
      "          '@v': 'TIGER/Line® 2008 Place Shapefiles '\n",
      "                '(http://www.census.gov/geo/www/tiger/)'},\n",
      "         {'@k': 'type', '@v': 'boundary'},\n",
      "         {'@k': 'wikidata', '@v': 'Q2233290'},\n",
      "         {'@k': 'wikipedia', '@v': 'en:Beavercreek, Ohio'}]}\n"
     ]
    }
   ],
   "source": [
    "pprint(scraper.raw_data()['osm']['relation'][0])"
   ]
  }
 ],
 "metadata": {
  "kernelspec": {
   "display_name": "Python 3",
   "language": "python",
   "name": "python3"
  },
  "language_info": {
   "codemirror_mode": {
    "name": "ipython",
    "version": 3
   },
   "file_extension": ".py",
   "mimetype": "text/x-python",
   "name": "python",
   "nbconvert_exporter": "python",
   "pygments_lexer": "ipython3",
   "version": "3.11.5"
  }
 },
 "nbformat": 4,
 "nbformat_minor": 2
}
